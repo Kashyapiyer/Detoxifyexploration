{
  "nbformat": 4,
  "nbformat_minor": 0,
  "metadata": {
    "colab": {
      "provenance": [],
      "machine_shape": "hm",
      "gpuType": "L4"
    },
    "kernelspec": {
      "name": "python3",
      "display_name": "Python 3"
    },
    "language_info": {
      "name": "python"
    },
    "accelerator": "GPU"
  },
  "cells": [
    {
      "cell_type": "code",
      "execution_count": 4,
      "metadata": {
        "id": "xaaeYVLdKD3l"
      },
      "outputs": [],
      "source": [
        "!pip install -qU detoxify"
      ]
    },
    {
      "cell_type": "code",
      "source": [
        "from detoxify import Detoxify\n",
        "\n",
        "detox_model = Detoxify('unbiased')\n",
        "\n",
        "sentences = [\"I love you\",\n",
        "\"Where's a Casper when you need one?\"\n",
        "\"If money could talk, what do you think it would say about your spending habits?\",\n",
        "\"What’s your favorite financial tip that sounds too good to be true?\"\n",
        "\"If you could invest in any fictional company, which one would it be and why?\",\n",
        "\"What's your go-to snack while crunching numbers?\",\n",
        "\"If you had to pick a financial superhero, who would it be and what would their superpower be?\"\n",
        "\"If you could create a public holiday dedicated to financial education, what activities would you include?\"\n",
        "\"What's your best financial advice that you've received and still live by today?\"]\n",
        "\n",
        "for query in sentences:\n",
        "    print(query)\n",
        "    result = detox_model.predict(\"\")\n",
        "    print(result)"
      ],
      "metadata": {
        "colab": {
          "base_uri": "https://localhost:8080/"
        },
        "id": "_y-9pKe4KHWJ",
        "outputId": "49abc6b2-d3d7-4adc-80e2-fb674cae3f63"
      },
      "execution_count": 9,
      "outputs": [
        {
          "output_type": "stream",
          "name": "stdout",
          "text": [
            "I love you\n",
            "{'toxicity': 0.0010906049, 'severe_toxicity': 1.0987594e-06, 'obscene': 2.7236969e-05, 'identity_attack': 0.00021040987, 'insult': 0.00025727932, 'threat': 3.161483e-05, 'sexual_explicit': 1.3541192e-05}\n",
            "Where's a Casper when you need one?If money could talk, what do you think it would say about your spending habits?\n",
            "{'toxicity': 0.0010906049, 'severe_toxicity': 1.0987594e-06, 'obscene': 2.7236969e-05, 'identity_attack': 0.00021040987, 'insult': 0.00025727932, 'threat': 3.161483e-05, 'sexual_explicit': 1.3541192e-05}\n",
            "What’s your favorite financial tip that sounds too good to be true?If you could invest in any fictional company, which one would it be and why?\n",
            "{'toxicity': 0.0010906049, 'severe_toxicity': 1.0987594e-06, 'obscene': 2.7236969e-05, 'identity_attack': 0.00021040987, 'insult': 0.00025727932, 'threat': 3.161483e-05, 'sexual_explicit': 1.3541192e-05}\n",
            "What's your go-to snack while crunching numbers?\n",
            "{'toxicity': 0.0010906049, 'severe_toxicity': 1.0987594e-06, 'obscene': 2.7236969e-05, 'identity_attack': 0.00021040987, 'insult': 0.00025727932, 'threat': 3.161483e-05, 'sexual_explicit': 1.3541192e-05}\n",
            "If you had to pick a financial superhero, who would it be and what would their superpower be?If you could create a public holiday dedicated to financial education, what activities would you include?What's your best financial advice that you've received and still live by today?\n",
            "{'toxicity': 0.0010906049, 'severe_toxicity': 1.0987594e-06, 'obscene': 2.7236969e-05, 'identity_attack': 0.00021040987, 'insult': 0.00025727932, 'threat': 3.161483e-05, 'sexual_explicit': 1.3541192e-05}\n"
          ]
        },
        {
          "output_type": "stream",
          "name": "stderr",
          "text": [
            "/usr/local/lib/python3.10/dist-packages/transformers/tokenization_utils_base.py:1601: FutureWarning: `clean_up_tokenization_spaces` was not set. It will be set to `True` by default. This behavior will be depracted in transformers v4.45, and will be then set to `False` by default. For more details check this issue: https://github.com/huggingface/transformers/issues/31884\n",
            "  warnings.warn(\n"
          ]
        }
      ]
    }
  ]
}